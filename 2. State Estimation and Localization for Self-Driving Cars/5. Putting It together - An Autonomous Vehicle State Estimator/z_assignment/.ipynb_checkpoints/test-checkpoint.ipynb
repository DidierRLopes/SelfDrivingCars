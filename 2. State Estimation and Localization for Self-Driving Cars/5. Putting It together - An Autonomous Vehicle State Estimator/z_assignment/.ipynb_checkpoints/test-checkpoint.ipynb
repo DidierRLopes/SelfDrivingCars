{
 "cells": [
  {
   "cell_type": "code",
   "execution_count": 55,
   "metadata": {
    "collapsed": true
   },
   "outputs": [],
   "source": [
    "import numpy as np\n",
    "from numpy.linalg import inv\n",
    "import pickle\n",
    "\n",
    "# library\n",
    "from rotations import Quaternion, skew_symmetric"
   ]
  },
  {
   "cell_type": "code",
   "execution_count": 3,
   "metadata": {
    "collapsed": true
   },
   "outputs": [],
   "source": [
    "# Just for testing\n",
    "sensor_var = np.random.rand(3, 3)\n",
    "p_cov_check = np.random.rand(9, 9)\n",
    "y_k = np.random.rand(3, 1)\n",
    "p_check = np.random.rand(3, 1)\n",
    "v_check = np.random.rand(3, 1)\n",
    "q_check = np.random.rand(4, 1)"
   ]
  },
  {
   "cell_type": "code",
   "execution_count": 4,
   "metadata": {
    "collapsed": true,
    "scrolled": true
   },
   "outputs": [],
   "source": [
    "var_imu_f = 0.10\n",
    "var_imu_w = 0.25\n",
    "var_gnss  = 0.01\n",
    "var_lidar = 1.00\n",
    "\n",
    "g = np.array([0, 0, -9.81])  # gravity\n",
    "l_jac = np.zeros([9, 6])\n",
    "l_jac[3:, :] = np.eye(6)  # motion model noise jacobian\n",
    "h_jac = np.zeros([3, 9])\n",
    "h_jac[:, :3] = np.eye(3)  # measurement model jacobian"
   ]
  },
  {
   "cell_type": "code",
   "execution_count": 32,
   "metadata": {
    "collapsed": true
   },
   "outputs": [],
   "source": [
    "################################################################################################\n",
    "with open('data/pt1_data.pkl', 'rb') as file:\n",
    "    data = pickle.load(file)\n",
    "gt = data['gt']\n",
    "imu_f = data['imu_f']\n",
    "imu_w = data['imu_w']\n",
    "gnss = data['gnss']\n",
    "lidar = data['lidar']\n",
    "\n",
    "p_est = np.zeros([imu_f.data.shape[0], 3])  # position estimates\n",
    "v_est = np.zeros([imu_f.data.shape[0], 3])  # velocity estimates\n",
    "q_est = np.zeros([imu_f.data.shape[0], 4])  # orientation estimates as quaternions\n",
    "p_cov = np.zeros([imu_f.data.shape[0], 9, 9])  # covariance matrices at each timestep\n",
    "\n",
    "# Set initial values.\n",
    "p_est[0] = gt.p[0]\n",
    "v_est[0] = gt.v[0]\n",
    "q_est[0] = Quaternion(euler=gt.r[0]).to_numpy()\n",
    "p_cov[0] = np.zeros(9)  # covariance of estimate\n",
    "gnss_i  = 0\n",
    "lidar_i = 0"
   ]
  },
  {
   "cell_type": "code",
   "execution_count": 57,
   "metadata": {
    "collapsed": true
   },
   "outputs": [],
   "source": [
    "# sensor_var is either lidar or gnss\n",
    "def measurement_update(sensor_var, p_cov_check, y_k, p_check, v_check, q_check):\n",
    "    R_k = np.eye(3) * sensor_var\n",
    "    # 3.1 Compute Kalman Gain\n",
    "    K_k = p_cov_check @ h_jac.T @ inv(h_jac @ p_cov_check @ h_jac.T + sensor_var)\n",
    "\n",
    "    # 3.2 Compute error state\n",
    "    delta_x = K_k @ (y_k - p_check)\n",
    "\n",
    "    # 3.3 Correct predicted state\n",
    "    p_hat = p_check + delta_x[0:3]\n",
    "    v_hat = v_check + delta_x[3:6]\n",
    "    delta_q = Quaternion(euler=delta_x[6:9])\n",
    "    q_hat = delta_q.quat_mult_left(q_check, out='np') # delta_q (*) q_check.\n",
    "\n",
    "    # 3.4 Compute corrected covariance\n",
    "    p_cov_hat = (np.eye(len(p_cov_check)) - (K_k @ h_jac)) @ p_cov_check\n",
    "\n",
    "    return p_hat, v_hat, q_hat, p_cov_hat"
   ]
  },
  {
   "cell_type": "code",
   "execution_count": 89,
   "metadata": {},
   "outputs": [
    {
     "ename": "LinAlgError",
     "evalue": "Singular matrix",
     "output_type": "error",
     "traceback": [
      "\u001b[0;31m---------------------------------------------------------------------------\u001b[0m",
      "\u001b[0;31mLinAlgError\u001b[0m                               Traceback (most recent call last)",
      "\u001b[0;32m<ipython-input-89-13506ff3c271>\u001b[0m in \u001b[0;36m<module>\u001b[0;34m()\u001b[0m\n\u001b[1;32m     31\u001b[0m     \u001b[0;32mif\u001b[0m \u001b[0;34m(\u001b[0m\u001b[0;34m(\u001b[0m\u001b[0mimu_f\u001b[0m\u001b[0;34m.\u001b[0m\u001b[0mt\u001b[0m\u001b[0;34m[\u001b[0m\u001b[0mk\u001b[0m\u001b[0;34m]\u001b[0m \u001b[0;34m>\u001b[0m \u001b[0mgnss\u001b[0m\u001b[0;34m.\u001b[0m\u001b[0mt\u001b[0m\u001b[0;34m[\u001b[0m\u001b[0mgnss_k\u001b[0m\u001b[0;34m]\u001b[0m\u001b[0;34m)\u001b[0m \u001b[0;32mand\u001b[0m \u001b[0;34m(\u001b[0m\u001b[0mimu_f\u001b[0m\u001b[0;34m.\u001b[0m\u001b[0mt\u001b[0m\u001b[0;34m[\u001b[0m\u001b[0mk\u001b[0m\u001b[0;34m]\u001b[0m \u001b[0;34m>\u001b[0m \u001b[0mlidar\u001b[0m\u001b[0;34m.\u001b[0m\u001b[0mt\u001b[0m\u001b[0;34m[\u001b[0m\u001b[0mlidar_k\u001b[0m\u001b[0;34m]\u001b[0m\u001b[0;34m)\u001b[0m\u001b[0;34m)\u001b[0m\u001b[0;34m:\u001b[0m\u001b[0;34m\u001b[0m\u001b[0;34m\u001b[0m\u001b[0m\n\u001b[1;32m     32\u001b[0m         \u001b[0;32mif\u001b[0m \u001b[0;34m(\u001b[0m\u001b[0mgnss\u001b[0m\u001b[0;34m.\u001b[0m\u001b[0mt\u001b[0m\u001b[0;34m[\u001b[0m\u001b[0mgnss_k\u001b[0m\u001b[0;34m]\u001b[0m \u001b[0;34m<=\u001b[0m \u001b[0mlidar\u001b[0m\u001b[0;34m.\u001b[0m\u001b[0mt\u001b[0m\u001b[0;34m[\u001b[0m\u001b[0mlidar_k\u001b[0m\u001b[0;34m]\u001b[0m\u001b[0;34m)\u001b[0m\u001b[0;34m:\u001b[0m\u001b[0;34m\u001b[0m\u001b[0;34m\u001b[0m\u001b[0m\n\u001b[0;32m---> 33\u001b[0;31m             \u001b[0mp_hat\u001b[0m\u001b[0;34m,\u001b[0m \u001b[0mv_hat\u001b[0m\u001b[0;34m,\u001b[0m \u001b[0mq_hat\u001b[0m\u001b[0;34m,\u001b[0m \u001b[0mp_cov_hat\u001b[0m \u001b[0;34m=\u001b[0m \u001b[0mmeasurement_update\u001b[0m\u001b[0;34m(\u001b[0m\u001b[0mvar_gnss\u001b[0m\u001b[0;34m,\u001b[0m \u001b[0mp_cov\u001b[0m\u001b[0;34m[\u001b[0m\u001b[0mk\u001b[0m\u001b[0;34m]\u001b[0m\u001b[0;34m,\u001b[0m \u001b[0mgnss\u001b[0m\u001b[0;34m.\u001b[0m\u001b[0mdata\u001b[0m\u001b[0;34m[\u001b[0m\u001b[0mgnss_k\u001b[0m\u001b[0;34m]\u001b[0m\u001b[0;34m,\u001b[0m \u001b[0mp_est\u001b[0m\u001b[0;34m[\u001b[0m\u001b[0mk\u001b[0m\u001b[0;34m]\u001b[0m\u001b[0;34m,\u001b[0m \u001b[0mv_est\u001b[0m\u001b[0;34m[\u001b[0m\u001b[0mk\u001b[0m\u001b[0;34m]\u001b[0m\u001b[0;34m,\u001b[0m \u001b[0mq_est\u001b[0m\u001b[0;34m[\u001b[0m\u001b[0mk\u001b[0m\u001b[0;34m]\u001b[0m\u001b[0;34m)\u001b[0m\u001b[0;34m\u001b[0m\u001b[0;34m\u001b[0m\u001b[0m\n\u001b[0m\u001b[1;32m     34\u001b[0m             \u001b[0mp_hat\u001b[0m\u001b[0;34m,\u001b[0m \u001b[0mv_hat\u001b[0m\u001b[0;34m,\u001b[0m \u001b[0mq_hat\u001b[0m\u001b[0;34m,\u001b[0m \u001b[0mp_cov_hat\u001b[0m \u001b[0;34m=\u001b[0m \u001b[0mmeasurement_update\u001b[0m\u001b[0;34m(\u001b[0m\u001b[0mvar_lidar\u001b[0m\u001b[0;34m,\u001b[0m \u001b[0mp_cov_hat\u001b[0m\u001b[0;34m,\u001b[0m \u001b[0mlidar\u001b[0m\u001b[0;34m.\u001b[0m\u001b[0mdata\u001b[0m\u001b[0;34m[\u001b[0m\u001b[0mlidar_k\u001b[0m\u001b[0;34m]\u001b[0m\u001b[0;34m,\u001b[0m \u001b[0mp_hat\u001b[0m\u001b[0;34m,\u001b[0m \u001b[0mv_hat\u001b[0m\u001b[0;34m,\u001b[0m \u001b[0mq_hat\u001b[0m\u001b[0;34m)\u001b[0m\u001b[0;34m\u001b[0m\u001b[0;34m\u001b[0m\u001b[0m\n\u001b[1;32m     35\u001b[0m         \u001b[0;32melse\u001b[0m\u001b[0;34m:\u001b[0m\u001b[0;34m\u001b[0m\u001b[0;34m\u001b[0m\u001b[0m\n",
      "\u001b[0;32m<ipython-input-57-a42fd7c7707c>\u001b[0m in \u001b[0;36mmeasurement_update\u001b[0;34m(sensor_var, p_cov_check, y_k, p_check, v_check, q_check)\u001b[0m\n\u001b[1;32m      3\u001b[0m     \u001b[0mR_k\u001b[0m \u001b[0;34m=\u001b[0m \u001b[0mnp\u001b[0m\u001b[0;34m.\u001b[0m\u001b[0meye\u001b[0m\u001b[0;34m(\u001b[0m\u001b[0;36m3\u001b[0m\u001b[0;34m)\u001b[0m \u001b[0;34m*\u001b[0m \u001b[0msensor_var\u001b[0m\u001b[0;34m\u001b[0m\u001b[0;34m\u001b[0m\u001b[0m\n\u001b[1;32m      4\u001b[0m     \u001b[0;31m# 3.1 Compute Kalman Gain\u001b[0m\u001b[0;34m\u001b[0m\u001b[0;34m\u001b[0m\u001b[0;34m\u001b[0m\u001b[0m\n\u001b[0;32m----> 5\u001b[0;31m     \u001b[0mK_k\u001b[0m \u001b[0;34m=\u001b[0m \u001b[0mp_cov_check\u001b[0m \u001b[0;34m@\u001b[0m \u001b[0mh_jac\u001b[0m\u001b[0;34m.\u001b[0m\u001b[0mT\u001b[0m \u001b[0;34m@\u001b[0m \u001b[0minv\u001b[0m\u001b[0;34m(\u001b[0m\u001b[0mh_jac\u001b[0m \u001b[0;34m@\u001b[0m \u001b[0mp_cov_check\u001b[0m \u001b[0;34m@\u001b[0m \u001b[0mh_jac\u001b[0m\u001b[0;34m.\u001b[0m\u001b[0mT\u001b[0m \u001b[0;34m+\u001b[0m \u001b[0msensor_var\u001b[0m\u001b[0;34m)\u001b[0m\u001b[0;34m\u001b[0m\u001b[0;34m\u001b[0m\u001b[0m\n\u001b[0m\u001b[1;32m      6\u001b[0m \u001b[0;34m\u001b[0m\u001b[0m\n\u001b[1;32m      7\u001b[0m     \u001b[0;31m# 3.2 Compute error state\u001b[0m\u001b[0;34m\u001b[0m\u001b[0;34m\u001b[0m\u001b[0;34m\u001b[0m\u001b[0m\n",
      "\u001b[0;32m<__array_function__ internals>\u001b[0m in \u001b[0;36minv\u001b[0;34m(*args, **kwargs)\u001b[0m\n",
      "\u001b[0;32m~/anaconda3/lib/python3.6/site-packages/numpy/linalg/linalg.py\u001b[0m in \u001b[0;36minv\u001b[0;34m(a)\u001b[0m\n\u001b[1;32m    545\u001b[0m     \u001b[0msignature\u001b[0m \u001b[0;34m=\u001b[0m \u001b[0;34m'D->D'\u001b[0m \u001b[0;32mif\u001b[0m \u001b[0misComplexType\u001b[0m\u001b[0;34m(\u001b[0m\u001b[0mt\u001b[0m\u001b[0;34m)\u001b[0m \u001b[0;32melse\u001b[0m \u001b[0;34m'd->d'\u001b[0m\u001b[0;34m\u001b[0m\u001b[0;34m\u001b[0m\u001b[0m\n\u001b[1;32m    546\u001b[0m     \u001b[0mextobj\u001b[0m \u001b[0;34m=\u001b[0m \u001b[0mget_linalg_error_extobj\u001b[0m\u001b[0;34m(\u001b[0m\u001b[0m_raise_linalgerror_singular\u001b[0m\u001b[0;34m)\u001b[0m\u001b[0;34m\u001b[0m\u001b[0;34m\u001b[0m\u001b[0m\n\u001b[0;32m--> 547\u001b[0;31m     \u001b[0mainv\u001b[0m \u001b[0;34m=\u001b[0m \u001b[0m_umath_linalg\u001b[0m\u001b[0;34m.\u001b[0m\u001b[0minv\u001b[0m\u001b[0;34m(\u001b[0m\u001b[0ma\u001b[0m\u001b[0;34m,\u001b[0m \u001b[0msignature\u001b[0m\u001b[0;34m=\u001b[0m\u001b[0msignature\u001b[0m\u001b[0;34m,\u001b[0m \u001b[0mextobj\u001b[0m\u001b[0;34m=\u001b[0m\u001b[0mextobj\u001b[0m\u001b[0;34m)\u001b[0m\u001b[0;34m\u001b[0m\u001b[0;34m\u001b[0m\u001b[0m\n\u001b[0m\u001b[1;32m    548\u001b[0m     \u001b[0;32mreturn\u001b[0m \u001b[0mwrap\u001b[0m\u001b[0;34m(\u001b[0m\u001b[0mainv\u001b[0m\u001b[0;34m.\u001b[0m\u001b[0mastype\u001b[0m\u001b[0;34m(\u001b[0m\u001b[0mresult_t\u001b[0m\u001b[0;34m,\u001b[0m \u001b[0mcopy\u001b[0m\u001b[0;34m=\u001b[0m\u001b[0;32mFalse\u001b[0m\u001b[0;34m)\u001b[0m\u001b[0;34m)\u001b[0m\u001b[0;34m\u001b[0m\u001b[0;34m\u001b[0m\u001b[0m\n\u001b[1;32m    549\u001b[0m \u001b[0;34m\u001b[0m\u001b[0m\n",
      "\u001b[0;32m~/anaconda3/lib/python3.6/site-packages/numpy/linalg/linalg.py\u001b[0m in \u001b[0;36m_raise_linalgerror_singular\u001b[0;34m(err, flag)\u001b[0m\n\u001b[1;32m     95\u001b[0m \u001b[0;34m\u001b[0m\u001b[0m\n\u001b[1;32m     96\u001b[0m \u001b[0;32mdef\u001b[0m \u001b[0m_raise_linalgerror_singular\u001b[0m\u001b[0;34m(\u001b[0m\u001b[0merr\u001b[0m\u001b[0;34m,\u001b[0m \u001b[0mflag\u001b[0m\u001b[0;34m)\u001b[0m\u001b[0;34m:\u001b[0m\u001b[0;34m\u001b[0m\u001b[0;34m\u001b[0m\u001b[0m\n\u001b[0;32m---> 97\u001b[0;31m     \u001b[0;32mraise\u001b[0m \u001b[0mLinAlgError\u001b[0m\u001b[0;34m(\u001b[0m\u001b[0;34m\"Singular matrix\"\u001b[0m\u001b[0;34m)\u001b[0m\u001b[0;34m\u001b[0m\u001b[0;34m\u001b[0m\u001b[0m\n\u001b[0m\u001b[1;32m     98\u001b[0m \u001b[0;34m\u001b[0m\u001b[0m\n\u001b[1;32m     99\u001b[0m \u001b[0;32mdef\u001b[0m \u001b[0m_raise_linalgerror_nonposdef\u001b[0m\u001b[0;34m(\u001b[0m\u001b[0merr\u001b[0m\u001b[0;34m,\u001b[0m \u001b[0mflag\u001b[0m\u001b[0;34m)\u001b[0m\u001b[0;34m:\u001b[0m\u001b[0;34m\u001b[0m\u001b[0;34m\u001b[0m\u001b[0m\n",
      "\u001b[0;31mLinAlgError\u001b[0m: Singular matrix"
     ]
    }
   ],
   "source": [
    "f_jac = np.eye(9)\n",
    "\n",
    "Q_k = np.eye(6)\n",
    "Q_k[0:3,0:3] = var_imu_f\n",
    "Q_k[3:6,3:6] = var_imu_w\n",
    "\n",
    "gnss_k = 0\n",
    "lidar_k = 0\n",
    "\n",
    "for k in range(1, imu_f.data.shape[0]):  # start at 1 b/c we have initial prediction from gt\n",
    "    delta_t = imu_f.t[k] - imu_f.t[k - 1]\n",
    "    \n",
    "    # q_est keeps orientation of sensor frame w.r.t nav frame\n",
    "    C_ns = Quaternion(*q_est[k-1]).to_mat()  # calibration matrix\n",
    "\n",
    "    # 1. Update state with IMU inputs\n",
    "    p_est[k] = p_est[k-1] + delta_t*v_est[k-1] + ((delta_t ** 2)/2)*(C_ns @ imu_f.data[k-1] + g)\n",
    "    v_est[k] = v_est[k-1] + delta_t*(C_ns @ imu_f.data[k-1] + g)\n",
    "    \n",
    "    q_w = Quaternion(*imu_w.data[k-1]*delta_t)\n",
    "    q_est[k] = q_w.quat_mult_left(q_est[k-1], out='np')\n",
    "\n",
    "    # 1.1 Linearize the motion model and compute Jacobians\n",
    "    f_jac[0:3, 3:6] = np.eye(3) * delta_t\n",
    "    f_jac[3:6, 6:9] = - skew_symmetric(C_ns @ imu_f.data[k-1])*delta_t\n",
    "    \n",
    "    # 2. Propagate uncertainty\n",
    "    p_cov[k] = f_jac @ p_cov[k-1] @ f_jac.T + l_jac @ Q_k @ l_jac.T\n",
    "    \n",
    "    # 3. Check availability of GNSS and LIDAR measurements\n",
    "    if ((imu_f.t[k] > gnss.t[gnss_k]) and (imu_f.t[k] > lidar.t[lidar_k])):\n",
    "        if (gnss.t[gnss_k] <= lidar.t[lidar_k]):\n",
    "            p_hat, v_hat, q_hat, p_cov_hat = measurement_update(var_gnss, p_cov[k], gnss.data[gnss_k], p_est[k], v_est[k], q_est[k])\n",
    "            p_hat, v_hat, q_hat, p_cov_hat = measurement_update(var_lidar, p_cov_hat, lidar.data[lidar_k], p_hat, v_hat, q_hat)\n",
    "        else:\n",
    "            p_hat, v_hat, q_hat, p_cov_hat = measurement_update(var_lidar, p_cov[k], lidar.data[lidar_k], p_est[k], v_est[k], q_est[k])\n",
    "            p_hat, v_hat, q_hat, p_cov_hat = measurement_update(var_gnss, p_cov_hat, gnss.data[gnss_k], p_hat, v_hat, q_hat)\n",
    "        gnss_k += 1\n",
    "        lidar_k += 1\n",
    "            \n",
    "    elif (imu_f.t[k] > gnss.t[gnss_k]):\n",
    "        p_hat, v_hat, q_hat, p_cov_hat = measurement_update(var_gnss, p_cov[k], gnss.data[gnss_k], p_est[k], v_est[k], q_est[k])\n",
    "        gnss_k += 1\n",
    "        \n",
    "    elif (imu_f.t[k] > lidar.t[lidar_k]):\n",
    "        p_hat, v_hat, q_hat, p_cov_hat = measurement_update(var_lidar, p_cov[k], lidar.data[lidar_k], p_est[k], v_est[k], q_est[k])\n",
    "        lidar_k += 1\n",
    "\n",
    "    # Update states (save)\n",
    "    p_est[k] = p_hat\n",
    "    v_est[k] = v_hat\n",
    "    q_est[k] = q_hat\n",
    "    p_cov[k] = p_cov_hat\n",
    "    "
   ]
  },
  {
   "cell_type": "code",
   "execution_count": 88,
   "metadata": {},
   "outputs": [
    {
     "data": {
      "text/plain": [
       "array([ 2.055,  2.06 ,  2.065, ..., 56.64 , 56.645, 56.65 ])"
      ]
     },
     "execution_count": 88,
     "metadata": {},
     "output_type": "execute_result"
    }
   ],
   "source": [
    "imu_f.t"
   ]
  },
  {
   "cell_type": "code",
   "execution_count": 76,
   "metadata": {},
   "outputs": [
    {
     "data": {
      "text/plain": [
       "array([ 2.055,  3.06 ,  4.065,  5.07 ,  6.075,  7.08 ,  8.085,  9.09 ,\n",
       "       10.095, 11.1  , 12.105, 13.11 , 14.115, 15.12 , 16.12 , 17.125,\n",
       "       18.13 , 19.135, 20.14 , 21.145, 22.15 , 23.155, 24.16 , 25.165,\n",
       "       26.17 , 27.175, 28.18 , 29.185, 30.19 , 31.195, 32.2  , 33.205,\n",
       "       34.21 , 35.215, 36.22 , 37.225, 38.23 , 39.235, 40.24 , 41.245,\n",
       "       42.25 , 43.255, 44.26 , 45.265, 46.27 , 47.275, 48.28 , 49.285,\n",
       "       50.29 , 51.295, 52.3  , 53.305, 54.31 , 55.315, 56.32 ])"
      ]
     },
     "execution_count": 76,
     "metadata": {},
     "output_type": "execute_result"
    }
   ],
   "source": [
    "gnss.t"
   ]
  },
  {
   "cell_type": "code",
   "execution_count": 77,
   "metadata": {},
   "outputs": [
    {
     "data": {
      "text/plain": [
       "array([ 2.055,  2.16 ,  2.265,  2.37 ,  2.475,  2.58 ,  2.685,  2.79 ,\n",
       "        2.895,  3.   ,  3.105,  3.21 ,  3.315,  3.42 ,  3.525,  3.63 ,\n",
       "        3.735,  3.84 ,  3.945,  4.05 ,  4.15 ,  4.255,  4.355,  4.46 ,\n",
       "        4.565,  4.67 ,  4.775,  4.88 ,  4.98 ,  5.085,  5.19 ,  5.295,\n",
       "        5.4  ,  5.505,  5.605,  5.71 ,  5.815,  5.92 ,  6.025,  6.13 ,\n",
       "        6.23 ,  6.335,  6.44 ,  6.545,  6.65 ,  6.755,  6.855,  6.96 ,\n",
       "        7.065,  7.17 ,  7.275,  7.38 ,  7.48 ,  7.585,  7.69 ,  7.795,\n",
       "        7.9  ,  8.005,  8.11 ,  8.21 ,  8.315,  8.42 ,  8.525,  8.63 ,\n",
       "        8.735,  8.835,  8.94 ,  9.045,  9.15 ,  9.255,  9.36 ,  9.46 ,\n",
       "        9.565,  9.67 ,  9.775,  9.88 ,  9.985, 10.085, 10.19 , 10.295,\n",
       "       10.4  , 10.505, 10.61 , 10.71 , 10.815, 10.92 , 11.025, 11.13 ,\n",
       "       11.235, 11.335, 11.44 , 11.545, 11.65 , 11.755, 11.86 , 11.96 ,\n",
       "       12.065, 12.17 , 12.275, 12.38 , 12.485, 12.585, 12.69 , 12.795,\n",
       "       12.9  , 13.005, 13.11 , 13.21 , 13.315, 13.42 , 13.525, 13.63 ,\n",
       "       13.735, 13.835, 13.94 , 14.045, 14.15 , 14.255, 14.36 , 14.46 ,\n",
       "       14.565, 14.67 , 14.775, 14.88 , 14.985, 15.085, 15.19 , 15.295,\n",
       "       15.4  , 15.505, 15.61 , 15.71 , 15.815, 15.92 , 16.025, 16.13 ,\n",
       "       16.235, 16.34 , 16.445, 16.55 , 16.655, 16.76 , 16.865, 16.97 ,\n",
       "       17.075, 17.18 , 17.285, 17.39 , 17.495, 17.6  , 17.705, 17.81 ,\n",
       "       17.915, 18.02 , 18.125, 18.23 , 18.335, 18.44 , 18.545, 18.65 ,\n",
       "       18.755, 18.86 , 18.965, 19.07 , 19.175, 19.28 , 19.385, 19.49 ,\n",
       "       19.595, 19.7  , 19.805, 19.91 , 20.015, 20.12 , 20.225, 20.33 ,\n",
       "       20.435, 20.54 , 20.645, 20.75 , 20.855, 20.96 , 21.065, 21.17 ,\n",
       "       21.275, 21.38 , 21.485, 21.59 , 21.695, 21.8  , 21.905, 22.01 ,\n",
       "       22.115, 22.22 , 22.325, 22.43 , 22.535, 22.64 , 22.745, 22.85 ,\n",
       "       22.955, 23.06 , 23.165, 23.27 , 23.375, 23.48 , 23.585, 23.69 ,\n",
       "       23.795, 23.9  , 24.005, 24.11 , 24.215, 24.32 , 24.425, 24.53 ,\n",
       "       24.635, 24.74 , 24.845, 24.95 , 25.055, 25.16 , 25.265, 25.37 ,\n",
       "       25.475, 25.58 , 25.685, 25.79 , 25.895, 26.   , 26.105, 26.21 ,\n",
       "       26.315, 26.42 , 26.525, 26.63 , 26.735, 26.84 , 26.945, 27.05 ,\n",
       "       27.155, 27.26 , 27.365, 27.47 , 27.575, 27.68 , 27.785, 27.89 ,\n",
       "       27.995, 28.1  , 28.205, 28.31 , 28.415, 28.52 , 28.625, 28.73 ,\n",
       "       28.835, 28.94 , 29.045, 29.15 , 29.255, 29.36 , 29.465, 29.57 ,\n",
       "       29.675, 29.78 , 29.885, 29.99 , 30.095, 30.2  , 30.305, 30.41 ,\n",
       "       30.515, 30.62 , 30.725, 30.83 , 30.935, 31.04 , 31.145, 31.25 ,\n",
       "       31.355, 31.46 , 31.565, 31.67 , 31.775, 31.88 , 31.985, 32.09 ,\n",
       "       32.195, 32.3  , 32.405, 32.51 , 32.615, 32.72 , 32.825, 32.93 ,\n",
       "       33.035, 33.14 , 33.245, 33.35 , 33.455, 33.56 , 33.665, 33.77 ,\n",
       "       33.875, 33.98 , 34.085, 34.19 , 34.295, 34.4  , 34.505, 34.61 ,\n",
       "       34.715, 34.82 , 34.925, 35.03 , 35.135, 35.24 , 35.345, 35.45 ,\n",
       "       35.555, 35.66 , 35.765, 35.87 , 35.975, 36.08 , 36.185, 36.29 ,\n",
       "       36.395, 36.5  , 36.605, 36.71 , 36.815, 36.92 , 37.025, 37.13 ,\n",
       "       37.235, 37.34 , 37.445, 37.55 , 37.655, 37.76 , 37.865, 37.97 ,\n",
       "       38.075, 38.18 , 38.285, 38.39 , 38.495, 38.6  , 38.705, 38.81 ,\n",
       "       38.915, 39.02 , 39.125, 39.23 , 39.335, 39.44 , 39.545, 39.65 ,\n",
       "       39.755, 39.86 , 39.965, 40.07 , 40.175, 40.28 , 40.385, 40.49 ,\n",
       "       40.595, 40.7  , 40.805, 40.91 , 41.015, 41.12 , 41.225, 41.33 ,\n",
       "       41.435, 41.54 , 41.645, 41.75 , 41.855, 41.96 , 42.065, 42.17 ,\n",
       "       42.275, 42.38 , 42.485, 42.59 , 42.695, 42.8  , 42.905, 43.01 ,\n",
       "       43.115, 43.22 , 43.325, 43.43 , 43.535, 43.64 , 43.745, 43.85 ,\n",
       "       43.955, 44.06 , 44.165, 44.27 , 44.375, 44.48 , 44.585, 44.69 ,\n",
       "       44.795, 44.9  , 45.005, 45.11 , 45.215, 45.32 , 45.425, 45.53 ,\n",
       "       45.635, 45.74 , 45.845, 45.95 , 46.055, 46.16 , 46.265, 46.37 ,\n",
       "       46.475, 46.58 , 46.685, 46.79 , 46.895, 47.   , 47.105, 47.21 ,\n",
       "       47.315, 47.42 , 47.525, 47.63 , 47.735, 47.84 , 47.945, 48.05 ,\n",
       "       48.155, 48.26 , 48.365, 48.47 , 48.575, 48.68 , 48.785, 48.89 ,\n",
       "       48.995, 49.1  , 49.205, 49.31 , 49.415, 49.52 , 49.625, 49.73 ,\n",
       "       49.835, 49.94 , 50.045, 50.15 , 50.255, 50.36 , 50.465, 50.57 ,\n",
       "       50.675, 50.78 , 50.885, 50.99 , 51.095, 51.2  , 51.305, 51.41 ,\n",
       "       51.515, 51.62 , 51.725, 51.83 , 51.935, 52.04 , 52.145, 52.25 ,\n",
       "       52.355, 52.46 , 52.565, 52.67 , 52.775, 52.88 , 52.985, 53.09 ,\n",
       "       53.195, 53.3  , 53.405, 53.51 , 53.615, 53.72 , 53.825, 53.93 ,\n",
       "       54.035, 54.14 , 54.245, 54.35 , 54.455, 54.56 , 54.665, 54.77 ,\n",
       "       54.875, 54.98 , 55.085, 55.19 , 55.295, 55.4  , 55.505, 55.61 ,\n",
       "       55.715, 55.82 , 55.925, 56.03 , 56.135, 56.24 , 56.345, 56.45 ,\n",
       "       56.555])"
      ]
     },
     "execution_count": 77,
     "metadata": {},
     "output_type": "execute_result"
    }
   ],
   "source": [
    "lidar.t"
   ]
  },
  {
   "cell_type": "code",
   "execution_count": 78,
   "metadata": {
    "scrolled": true
   },
   "outputs": [
    {
     "data": {
      "text/plain": [
       "56.64"
      ]
     },
     "execution_count": 78,
     "metadata": {},
     "output_type": "execute_result"
    }
   ],
   "source": [
    "imu_f.t[k]"
   ]
  },
  {
   "cell_type": "code",
   "execution_count": 53,
   "metadata": {
    "collapsed": true
   },
   "outputs": [],
   "source": []
  },
  {
   "cell_type": "code",
   "execution_count": null,
   "metadata": {
    "collapsed": true
   },
   "outputs": [],
   "source": []
  }
 ],
 "metadata": {
  "kernelspec": {
   "display_name": "Python 3",
   "language": "python",
   "name": "python3"
  },
  "language_info": {
   "codemirror_mode": {
    "name": "ipython",
    "version": 3
   },
   "file_extension": ".py",
   "mimetype": "text/x-python",
   "name": "python",
   "nbconvert_exporter": "python",
   "pygments_lexer": "ipython3",
   "version": "3.6.8"
  }
 },
 "nbformat": 4,
 "nbformat_minor": 2
}
